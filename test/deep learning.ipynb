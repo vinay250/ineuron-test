{
 "cells": [
  {
   "cell_type": "code",
   "execution_count": 1,
   "metadata": {},
   "outputs": [
    {
     "name": "stdout",
     "output_type": "stream",
     "text": [
      "Model: \"sequential\"\n",
      "_________________________________________________________________\n",
      " Layer (type)                Output Shape              Param #   \n",
      "=================================================================\n",
      " conv2d (Conv2D)             (None, 26, 26, 32)        320       \n",
      "                                                                 \n",
      " max_pooling2d (MaxPooling2  (None, 13, 13, 32)        0         \n",
      " D)                                                              \n",
      "                                                                 \n",
      " conv2d_1 (Conv2D)           (None, 11, 11, 64)        18496     \n",
      "                                                                 \n",
      " max_pooling2d_1 (MaxPoolin  (None, 5, 5, 64)          0         \n",
      " g2D)                                                            \n",
      "                                                                 \n",
      " conv2d_2 (Conv2D)           (None, 3, 3, 64)          36928     \n",
      "                                                                 \n",
      " flatten (Flatten)           (None, 576)               0         \n",
      "                                                                 \n",
      " dense (Dense)               (None, 64)                36928     \n",
      "                                                                 \n",
      " dense_1 (Dense)             (None, 10)                650       \n",
      "                                                                 \n",
      "=================================================================\n",
      "Total params: 93322 (364.54 KB)\n",
      "Trainable params: 93322 (364.54 KB)\n",
      "Non-trainable params: 0 (0.00 Byte)\n",
      "_________________________________________________________________\n",
      "Epoch 1/10\n",
      "750/750 [==============================] - 27s 34ms/step - loss: 0.2080 - accuracy: 0.9351 - val_loss: 0.0705 - val_accuracy: 0.9795\n",
      "Epoch 2/10\n",
      "750/750 [==============================] - 25s 33ms/step - loss: 0.0548 - accuracy: 0.9827 - val_loss: 0.0523 - val_accuracy: 0.9838\n",
      "Epoch 3/10\n",
      "750/750 [==============================] - 26s 35ms/step - loss: 0.0381 - accuracy: 0.9881 - val_loss: 0.0403 - val_accuracy: 0.9885\n",
      "Epoch 4/10\n",
      "750/750 [==============================] - 25s 33ms/step - loss: 0.0307 - accuracy: 0.9901 - val_loss: 0.0419 - val_accuracy: 0.9877\n",
      "Epoch 5/10\n",
      "750/750 [==============================] - 24s 32ms/step - loss: 0.0238 - accuracy: 0.9922 - val_loss: 0.0364 - val_accuracy: 0.9887\n",
      "Epoch 6/10\n",
      "750/750 [==============================] - 26s 34ms/step - loss: 0.0201 - accuracy: 0.9937 - val_loss: 0.0456 - val_accuracy: 0.9881\n",
      "Epoch 7/10\n",
      "750/750 [==============================] - 23s 31ms/step - loss: 0.0183 - accuracy: 0.9940 - val_loss: 0.0353 - val_accuracy: 0.9896\n",
      "Epoch 8/10\n",
      "750/750 [==============================] - 25s 34ms/step - loss: 0.0126 - accuracy: 0.9957 - val_loss: 0.0407 - val_accuracy: 0.9910\n",
      "Epoch 9/10\n",
      "750/750 [==============================] - 24s 31ms/step - loss: 0.0136 - accuracy: 0.9950 - val_loss: 0.0385 - val_accuracy: 0.9905\n",
      "Epoch 10/10\n",
      "750/750 [==============================] - 23s 31ms/step - loss: 0.0100 - accuracy: 0.9967 - val_loss: 0.0408 - val_accuracy: 0.9900\n",
      "313/313 [==============================] - 2s 5ms/step - loss: 0.0350 - accuracy: 0.9904\n",
      "Test Accuracy: 99.04%\n",
      "Minimum validation accuracy not achieved.\n"
     ]
    }
   ],
   "source": [
    "import tensorflow as tf\n",
    "from tensorflow.keras import layers, models\n",
    "from tensorflow.keras.datasets import mnist\n",
    "from tensorflow.keras.utils import to_categorical\n",
    "\n",
    "# Load and preprocess the MNIST dataset\n",
    "(train_images, train_labels), (test_images, test_labels) = mnist.load_data()\n",
    "train_images = train_images.reshape((60000, 28, 28, 1)).astype('float32') / 255\n",
    "test_images = test_images.reshape((10000, 28, 28, 1)).astype('float32') / 255\n",
    "\n",
    "train_labels = to_categorical(train_labels)\n",
    "test_labels = to_categorical(test_labels)\n",
    "\n",
    "# Define the CNN architecture\n",
    "model = models.Sequential()\n",
    "model.add(layers.Conv2D(32, (3, 3), activation='relu', input_shape=(28, 28, 1)))\n",
    "model.add(layers.MaxPooling2D((2, 2)))\n",
    "model.add(layers.Conv2D(64, (3, 3), activation='relu'))\n",
    "model.add(layers.MaxPooling2D((2, 2)))\n",
    "model.add(layers.Conv2D(64, (3, 3), activation='relu'))\n",
    "model.add(layers.Flatten())\n",
    "model.add(layers.Dense(64, activation='relu'))\n",
    "model.add(layers.Dense(10, activation='softmax'))\n",
    "\n",
    "# Display the model summary\n",
    "model.summary()\n",
    "\n",
    "# Compile the model\n",
    "model.compile(optimizer='adam', \n",
    "              loss='categorical_crossentropy',\n",
    "              metrics=['accuracy'])\n",
    "\n",
    "# Train the model\n",
    "history = model.fit(train_images, train_labels, epochs=10, batch_size=64, validation_split=0.2)\n",
    "\n",
    "# Evaluate the model on the test set\n",
    "test_loss, test_accuracy = model.evaluate(test_images, test_labels)\n",
    "print(f'Test Accuracy: {test_accuracy * 100:.2f}%')\n",
    "\n",
    "# Check if the minimum validation accuracy condition is met\n",
    "if min(history.history['val_accuracy']) >= 0.994:\n",
    "    print(\"Minimum validation accuracy condition met.\")\n",
    "else:\n",
    "    print(\"Minimum validation accuracy not achieved.\")\n"
   ]
  },
  {
   "cell_type": "markdown",
   "metadata": {},
   "source": [
    " MNIST dataset and achieve a minimum validation accuracy of 99.40%, you can design a simple convolutional neural network. Below is an example using TensorFlow and Keras with code comments for better understanding:This code defines a CNN with three convolutional layers followed by max-pooling layers and fully connected layers. The model is then compiled and trained on the MNIST dataset. The training history is stored in the history variable, and the test accuracy is evaluated at the end.\n",
    "\n"
   ]
  },
  {
   "cell_type": "code",
   "execution_count": null,
   "metadata": {},
   "outputs": [],
   "source": []
  }
 ],
 "metadata": {
  "kernelspec": {
   "display_name": "Python 3",
   "language": "python",
   "name": "python3"
  },
  "language_info": {
   "codemirror_mode": {
    "name": "ipython",
    "version": 3
   },
   "file_extension": ".py",
   "mimetype": "text/x-python",
   "name": "python",
   "nbconvert_exporter": "python",
   "pygments_lexer": "ipython3",
   "version": "3.11.1"
  }
 },
 "nbformat": 4,
 "nbformat_minor": 2
}
