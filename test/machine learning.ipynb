{
 "cells": [
  {
   "cell_type": "code",
   "execution_count": null,
   "metadata": {},
   "outputs": [],
   "source": [
    "#1)\n",
    "# Import necessary libraries\n",
    "import pandas as pd\n",
    "from sklearn.model_selection import train_test_split\n",
    "from sklearn.preprocessing import StandardScaler\n",
    "from sklearn.ensemble import RandomForestRegressor\n",
    "from sklearn.metrics import mean_squared_error, mean_absolute_error\n",
    "from sklearn.linear_model import LinearRegression\n",
    "\n",
    "# Load the dataset\n",
    "data = [\n",
    "    [1, \"mikequindazzi\", \"Who are #DataScientist and what do they do? >> @MikeQuindazzi >> #MachineLearning #AI #DataAnalytics #DataScienc #DataLake >> https://buff.ly/2kYmF0s\", 1600, \"#MachineLearning #AI #DataAnalytics #DataScienc #DataLake\", \"11 hours\", 139],\n",
    "    # ... (add the rest of the data)\n",
    "]\n",
    "\n",
    "columns = [\"S.No\", \"USERNAME\", \"Caption\", \"Followers\", \"Hashtags\", \"Time_Since_Posted\", \"Likes\"]\n",
    "\n",
    "df = pd.DataFrame(data, columns=columns)\n",
    "\n",
    "# Feature engineering - convert 'Time_Since_Posted' to numeric\n",
    "df['Time_Since_Posted'] = df['Time_Since_Posted'].str.extract('(\\d+)').astype(float)\n",
    "\n",
    "# Extract features and target variables\n",
    "X = df[['Followers', 'Time_Since_Posted']]\n",
    "y_likes = df['Likes']\n",
    "y_time_since_posted = df['Time_Since_Posted']\n",
    "\n",
    "# Split the dataset into training and testing sets\n",
    "X_train, X_test, y_likes_train, y_likes_test, y_time_train, y_time_test = train_test_split(X, y_likes, y_time_since_posted, test_size=0.2, random_state=42)\n",
    "\n",
    "# Standardize the features\n",
    "scaler = StandardScaler()\n",
    "X_train_scaled = scaler.fit_transform(X_train)\n",
    "X_test_scaled = scaler.transform(X_test)\n",
    "\n",
    "# Train a model for predicting Likes\n",
    "model_likes = RandomForestRegressor(n_estimators=100, random_state=42)\n",
    "model_likes.fit(X_train_scaled, y_likes_train)\n",
    "\n",
    "# Train a model for predicting Time_Since_Posted\n",
    "model_time = LinearRegression()\n",
    "model_time.fit(X_train_scaled, y_time_train)\n",
    "\n",
    "# Make predictions on the test set\n",
    "likes_predictions = model_likes.predict(X_test_scaled)\n",
    "time_predictions = model_time.predict(X_test_scaled)\n",
    "\n",
    "# Evaluate the models\n",
    "likes_rmse = mean_squared_error(y_likes_test, likes_predictions, squared=False)\n",
    "time_rmse = mean_squared_error(y_time_test, time_predictions, squared=False)\n",
    "\n",
    "print(f\"Likes RMSE: {likes_rmse}\")\n",
    "print(f\"Time Since Posted RMSE: {time_rmse}\")\n"
   ]
  },
  {
   "cell_type": "code",
   "execution_count": null,
   "metadata": {},
   "outputs": [],
   "source": [
    "#2)"
   ]
  },
  {
   "cell_type": "markdown",
   "metadata": {},
   "source": [
    "Step 1: Exploratory Data Analysis (EDA)\n",
    "EDA involves understanding the dataset, checking for missing values, exploring the distribution of features, and gaining insights. For the Bengaluru housing dataset:"
   ]
  },
  {
   "cell_type": "code",
   "execution_count": null,
   "metadata": {},
   "outputs": [],
   "source": [
    "import pandas as pd\n",
    "\n",
    "# Load the dataset\n",
    "data = [\n",
    "    [\"Super built-up Area\", \"19-Dec\", \"Electronic City Phase II\", \"2 BHK\", \"Coomee\", 1056, 2, 1, 39.07],\n",
    "    # ... (add the rest of the data)\n",
    "]\n",
    "\n",
    "columns = [\"rea_type\", \"availability\", \"location\", \"size\", \"society\", \"total_sqft\", \"bath\", \"balcony\", \"price\"]\n",
    "\n",
    "df = pd.DataFrame(data, columns=columns)\n",
    "\n",
    "# Display basic information about the dataset\n",
    "print(df.info())\n",
    "\n",
    "# Check for missing values\n",
    "print(df.isnull().sum())\n",
    "\n",
    "# Explore the distribution of numerical features\n",
    "print(df.describe())\n",
    "\n",
    "\n"
   ]
  },
  {
   "cell_type": "code",
   "execution_count": null,
   "metadata": {},
   "outputs": [],
   "source": []
  },
  {
   "cell_type": "code",
   "execution_count": null,
   "metadata": {},
   "outputs": [],
   "source": []
  },
  {
   "cell_type": "markdown",
   "metadata": {},
   "source": [
    "Step 2: Feature Engineering\n",
    "Feature engineering involves transforming and creating new features to improve model performance. In this case, you may want to encode categorical variables like rea_type, availability, location, size, and society. You can also handle missing values and scale numerical features."
   ]
  },
  {
   "cell_type": "code",
   "execution_count": null,
   "metadata": {},
   "outputs": [],
   "source": [
    "# Convert categorical variables to numerical using one-hot encoding\n",
    "df_encoded = pd.get_dummies(df, columns=[\"rea_type\", \"availability\", \"location\", \"size\", \"society\"], drop_first=True)\n",
    "\n",
    "\n"
   ]
  },
  {
   "cell_type": "markdown",
   "metadata": {},
   "source": [
    "Step 3: Train an SVM Regressor\n",
    "Now, you can train an SVM regressor using the processed data:"
   ]
  },
  {
   "cell_type": "code",
   "execution_count": null,
   "metadata": {},
   "outputs": [],
   "source": [
    "from sklearn.model_selection import train_test_split\n",
    "from sklearn.svm import SVR\n",
    "from sklearn.metrics import mean_squared_error\n",
    "\n",
    "# Split the dataset into features (X) and target variable (y)\n",
    "X = df_encoded.drop(\"price\", axis=1)\n",
    "y = df_encoded[\"price\"]\n",
    "\n",
    "# Split the dataset into training and testing sets\n",
    "X_train, X_test, y_train, y_test = train_test_split(X, y, test_size=0.2, random_state=42)\n",
    "\n",
    "# Train the SVM regressor\n",
    "svr = SVR()\n",
    "svr.fit(X_train, y_train)\n",
    "\n",
    "# Make predictions on the test set\n",
    "y_pred = svr.predict(X_test)\n",
    "\n",
    "# Evaluate the model\n",
    "mse = mean_squared_error(y_test, y_pred)\n",
    "print(f\"Mean Squared Error: {mse}\")\n"
   ]
  }
 ],
 "metadata": {
  "kernelspec": {
   "display_name": "Python 3",
   "language": "python",
   "name": "python3"
  },
  "language_info": {
   "codemirror_mode": {
    "name": "ipython",
    "version": 3
   },
   "file_extension": ".py",
   "mimetype": "text/x-python",
   "name": "python",
   "nbconvert_exporter": "python",
   "pygments_lexer": "ipython3",
   "version": "3.11.1"
  }
 },
 "nbformat": 4,
 "nbformat_minor": 2
}
