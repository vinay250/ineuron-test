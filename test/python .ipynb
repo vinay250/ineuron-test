{
 "cells": [
  {
   "cell_type": "code",
   "execution_count": 1,
   "metadata": {},
   "outputs": [
    {
     "name": "stdout",
     "output_type": "stream",
     "text": [
      "True\n"
     ]
    }
   ],
   "source": [
    "#1)\n",
    "def search_matrix(matrix, target):\n",
    "    if not matrix or not matrix[0]:\n",
    "        return False\n",
    "\n",
    "    rows, cols = len(matrix), len(matrix[0])\n",
    "    left, right = 0, rows * cols - 1\n",
    "\n",
    "    while left <= right:\n",
    "        mid = (left + right) // 2\n",
    "        mid_value = matrix[mid // cols][mid % cols]\n",
    "\n",
    "        if mid_value == target:\n",
    "            return True\n",
    "        elif mid_value < target:\n",
    "            left = mid + 1\n",
    "        else:\n",
    "            right = mid - 1\n",
    "\n",
    "    return False\n",
    "\n",
    "# Example usage:\n",
    "matrix = [[1, 3, 5, 7], [10, 11, 16, 20], [23, 30, 34, 60]]\n",
    "target = 3\n",
    "result = search_matrix(matrix, target)\n",
    "print(result)\n"
   ]
  },
  {
   "cell_type": "markdown",
   "metadata": {},
   "source": [
    "Initialize start to 0 and end to the total number of elements in the matrix - 1.\n",
    "Perform a binary search on the flattened matrix.\n",
    "Calculate the middle index (mid) and retrieve the corresponding value.\n",
    "If the middle value is equal to the target, return True.\n",
    "If the middle value is less than the target, narrow the search to the right half.\n",
    "If the middle value is greater than the target, narrow the search to the left half.\n",
    "Repeat steps 2-6 until the target is found or the search space is exhausted.\n"
   ]
  },
  {
   "cell_type": "code",
   "execution_count": 2,
   "metadata": {},
   "outputs": [
    {
     "name": "stdout",
     "output_type": "stream",
     "text": [
      "5\n"
     ]
    }
   ],
   "source": [
    "#2)\n",
    "def highest_frequency_word_length(input_string):\n",
    "    # Split the input string into words\n",
    "    words = input_string.split()\n",
    "\n",
    "    # Count the frequency of each word\n",
    "    word_frequency = {}\n",
    "    for word in words:\n",
    "        word_frequency[word] = word_frequency.get(word, 0) + 1\n",
    "\n",
    "    # Find the word with the highest frequency\n",
    "    max_frequency_word = max(word_frequency, key=word_frequency.get)\n",
    "\n",
    "    # Return the length of the highest-frequency word\n",
    "    return len(max_frequency_word)\n",
    "\n",
    "# Example usage:\n",
    "input_string = \"write write write all the number from from from 1 to 100\"\n",
    "output = highest_frequency_word_length(input_string)\n",
    "print(output)\n"
   ]
  },
  {
   "cell_type": "markdown",
   "metadata": {},
   "source": [
    "Explanation for the given example:\n",
    "\n",
    "The word \"write\" appears 3 times, and its length is 5.\n",
    "The word \"from\" appears 3 times, and its length is 4.\n",
    "The word with the highest frequency is \"write,\" so the output is 5.\n",
    "Additional Test Cases:\n",
    "\n",
    "Example input: \"apple orange banana apple banana orange banana\"\n",
    "Expected output: 6\n",
    "Explanation: The word \"banana\" has the highest frequency (3 times) and its length is 6.\n",
    "\n",
    "Example input: \"python java python c++ python java python\"\n",
    "Expected output: 6\n",
    "Explanation: The word \"python\" has the highest frequency (4 times) and its length is 6."
   ]
  }
 ],
 "metadata": {
  "kernelspec": {
   "display_name": "Python 3",
   "language": "python",
   "name": "python3"
  },
  "language_info": {
   "codemirror_mode": {
    "name": "ipython",
    "version": 3
   },
   "file_extension": ".py",
   "mimetype": "text/x-python",
   "name": "python",
   "nbconvert_exporter": "python",
   "pygments_lexer": "ipython3",
   "version": "3.11.1"
  }
 },
 "nbformat": 4,
 "nbformat_minor": 2
}
