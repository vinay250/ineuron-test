{
 "cells": [
  {
   "cell_type": "code",
   "execution_count": null,
   "metadata": {},
   "outputs": [],
   "source": [
    "#1)\n",
    "def searchMatrix(matrix, target):\n",
    "    if not matrix or not matrix[0]:\n",
    "        return False\n",
    "\n",
    "   rows, cols = len(matrix), len(matrix[0])\n",
    "    start, end = 0, rows * cols - 1\n",
    "\n",
    "    while start <= end:\n",
    "        mid = (start + end) // 2\n",
    "        mid_value = matrix[mid // cols][mid % cols]\n",
    "\n",
    "        if mid_value == target:\n",
    "            return True\n",
    "        elif mid_value < target:\n",
    "            start = mid + 1\n",
    "        else:\n",
    "            end = mid - 1\n",
    "\n",
    "    return False\n",
    "\n"
   ]
  },
  {
   "cell_type": "markdown",
   "metadata": {},
   "source": [
    "Initialize start to 0 and end to the total number of elements in the matrix - 1.\n",
    "Perform a binary search on the flattened matrix.\n",
    "Calculate the middle index (mid) and retrieve the corresponding value.\n",
    "If the middle value is equal to the target, return True.\n",
    "If the middle value is less than the target, narrow the search to the right half.\n",
    "If the middle value is greater than the target, narrow the search to the left half.\n",
    "Repeat steps 2-6 until the target is found or the search space is exhausted.\n"
   ]
  },
  {
   "cell_type": "code",
   "execution_count": null,
   "metadata": {},
   "outputs": [],
   "source": [
    "#2)\n",
    "from collections import Counter\n",
    "\n",
    "def highest_frequency_word_length(s):\n",
    "    # Split the string into words\n",
    "    words = s.split()\n",
    "\n",
    "    # Count the frequency of each word\n",
    "    word_counts = Counter(words)\n",
    "\n",
    "    # Find the word with the highest frequency\n",
    "    highest_frequency_word = max(word_counts, key=word_counts.get)\n",
    "\n",
    "    # Return the length of the highest-frequency word\n",
    "    return len(highest_frequency_word)\n",
    "\n",
    "# Example input\n",
    "input_string = \"write write write all the number from from from 1 to 100\"\n",
    "\n",
    "# Example output\n",
    "output = highest_frequency_word_length(input_string)\n",
    "print(output)  # Output: 5\n",
    "\n",
    "test case 1\n",
    "input_string_1 = \"apple banana cherry apple banana banana cherry cherry cherry\"\n",
    "output_1 = highest_frequency_word_length(input_string_1)\n",
    "print(output_1)  # Output: 6\n",
    "\n",
    "\n",
    "\n",
    "\n",
    "\n",
    "Test case 2\n",
    "input_string_2 = \"python python java java python java java java c++\"\n",
    "output_2 = highest_frequency_word_length(input_string_2)\n",
    "print(output_2)  # Output: 6\n",
    "\n"
   ]
  }
 ],
 "metadata": {
  "language_info": {
   "name": "python"
  }
 },
 "nbformat": 4,
 "nbformat_minor": 2
}
